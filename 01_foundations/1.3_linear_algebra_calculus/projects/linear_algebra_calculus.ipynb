{
 "cells": [
  {
   "cell_type": "markdown",
   "metadata": {},
   "source": [
    "# Linear Algebra & Calculus for Quantitative Finance\n",
    "\n",
    "## Lesson 1.3: Mathematical Foundations\n",
    "\n",
    "This notebook covers the essential linear algebra and calculus concepts needed for quantitative finance.\n",
    "\n",
    "### Topics Covered:\n",
    "- Vector operations and matrix algebra\n",
    "- Eigenvalues and eigenvectors\n",
    "- Partial derivatives and gradients\n",
    "- Optimization techniques\n",
    "- Applications in portfolio theory and risk management\n"
   ]
  },
  {
   "cell_type": "code",
   "execution_count": 1,
   "metadata": {},
   "outputs": [
    {
     "name": "stdout",
     "output_type": "stream",
     "text": [
      "Requirement already satisfied: pandas_datareader in /Library/Frameworks/Python.framework/Versions/3.11/lib/python3.11/site-packages (0.10.0)\n",
      "Requirement already satisfied: pandas in /Library/Frameworks/Python.framework/Versions/3.11/lib/python3.11/site-packages (2.0.3)\n",
      "Requirement already satisfied: numpy in /Library/Frameworks/Python.framework/Versions/3.11/lib/python3.11/site-packages (1.24.3)\n",
      "Requirement already satisfied: matplotlib in /Library/Frameworks/Python.framework/Versions/3.11/lib/python3.11/site-packages (3.6.3)\n",
      "Requirement already satisfied: scipy in /Library/Frameworks/Python.framework/Versions/3.11/lib/python3.11/site-packages (1.10.0)\n",
      "Requirement already satisfied: statsmodels in /Library/Frameworks/Python.framework/Versions/3.11/lib/python3.11/site-packages (0.14.5)\n",
      "Requirement already satisfied: lxml in /Library/Frameworks/Python.framework/Versions/3.11/lib/python3.11/site-packages (from pandas_datareader) (5.3.0)\n",
      "Requirement already satisfied: requests>=2.19.0 in /Library/Frameworks/Python.framework/Versions/3.11/lib/python3.11/site-packages (from pandas_datareader) (2.31.0)\n",
      "Requirement already satisfied: python-dateutil>=2.8.2 in /Library/Frameworks/Python.framework/Versions/3.11/lib/python3.11/site-packages (from pandas) (2.8.2)\n",
      "Requirement already satisfied: pytz>=2020.1 in /Library/Frameworks/Python.framework/Versions/3.11/lib/python3.11/site-packages (from pandas) (2024.2)\n",
      "Requirement already satisfied: tzdata>=2022.1 in /Library/Frameworks/Python.framework/Versions/3.11/lib/python3.11/site-packages (from pandas) (2024.2)\n",
      "Requirement already satisfied: contourpy>=1.0.1 in /Library/Frameworks/Python.framework/Versions/3.11/lib/python3.11/site-packages (from matplotlib) (1.3.1)\n",
      "Requirement already satisfied: cycler>=0.10 in /Library/Frameworks/Python.framework/Versions/3.11/lib/python3.11/site-packages (from matplotlib) (0.11.0)\n",
      "Requirement already satisfied: fonttools>=4.22.0 in /Library/Frameworks/Python.framework/Versions/3.11/lib/python3.11/site-packages (from matplotlib) (4.38.0)\n",
      "Requirement already satisfied: kiwisolver>=1.0.1 in /Library/Frameworks/Python.framework/Versions/3.11/lib/python3.11/site-packages (from matplotlib) (1.4.4)\n",
      "Requirement already satisfied: packaging>=20.0 in /Library/Frameworks/Python.framework/Versions/3.11/lib/python3.11/site-packages (from matplotlib) (23.0)\n",
      "Requirement already satisfied: pillow>=6.2.0 in /Library/Frameworks/Python.framework/Versions/3.11/lib/python3.11/site-packages (from matplotlib) (10.0.0)\n",
      "Requirement already satisfied: pyparsing>=2.2.1 in /Library/Frameworks/Python.framework/Versions/3.11/lib/python3.11/site-packages (from matplotlib) (3.0.9)\n",
      "Requirement already satisfied: patsy>=0.5.6 in /Library/Frameworks/Python.framework/Versions/3.11/lib/python3.11/site-packages (from statsmodels) (1.0.1)\n",
      "Requirement already satisfied: six>=1.5 in /Library/Frameworks/Python.framework/Versions/3.11/lib/python3.11/site-packages (from python-dateutil>=2.8.2->pandas) (1.16.0)\n",
      "Requirement already satisfied: charset-normalizer<4,>=2 in /Library/Frameworks/Python.framework/Versions/3.11/lib/python3.11/site-packages (from requests>=2.19.0->pandas_datareader) (3.1.0)\n",
      "Requirement already satisfied: idna<4,>=2.5 in /Library/Frameworks/Python.framework/Versions/3.11/lib/python3.11/site-packages (from requests>=2.19.0->pandas_datareader) (3.4)\n",
      "Requirement already satisfied: urllib3<3,>=1.21.1 in /Library/Frameworks/Python.framework/Versions/3.11/lib/python3.11/site-packages (from requests>=2.19.0->pandas_datareader) (1.26.15)\n",
      "Requirement already satisfied: certifi>=2017.4.17 in /Library/Frameworks/Python.framework/Versions/3.11/lib/python3.11/site-packages (from requests>=2.19.0->pandas_datareader) (2023.5.7)\n",
      "Note: you may need to restart the kernel to use updated packages.\n"
     ]
    }
   ],
   "source": [
    "# setup and imports\n",
    "\n",
    "%pip install pandas_datareader pandas numpy matplotlib scipy statsmodels\n",
    "\n",
    "import warnings, math\n",
    "warnings.filterwarnings(\"ignore\")\n",
    "\n",
    "# numerics\n",
    "import numpy as np                   # fast arrays, linear algebra (dot products, eigendecomp)\n",
    "import pandas as pd                  # tabular data (like Excel), time series handling\n",
    "\n",
    "# plotting\n",
    "import matplotlib.pyplot as plt      # charts (histograms, scree plots, etc.)\n",
    "plt.rcParams[\"figure.figsize\"] = (9,5)\n",
    "plt.rcParams[\"axes.spines.top\"] = False\n",
    "plt.rcParams[\"axes.spines.right\"] = False\n",
    "\n",
    "# stats and optimization\n",
    "from scipy import stats              # PDFs/CDFs, random draws, tests\n",
    "from scipy.optimize import minimize  # constrained optimization (SLSQP)\n",
    "from pandas_datareader import data as web  # Stooq access through pandas-datareader\n",
    "\n",
    "np.random.seed(42)  # reproducibility of random draws\n"
   ]
  },
  {
   "cell_type": "markdown",
   "metadata": {},
   "source": []
  },
  {
   "cell_type": "code",
   "execution_count": 4,
   "metadata": {},
   "outputs": [
    {
     "data": {
      "text/html": [
       "<div>\n",
       "<style scoped>\n",
       "    .dataframe tbody tr th:only-of-type {\n",
       "        vertical-align: middle;\n",
       "    }\n",
       "\n",
       "    .dataframe tbody tr th {\n",
       "        vertical-align: top;\n",
       "    }\n",
       "\n",
       "    .dataframe thead th {\n",
       "        text-align: right;\n",
       "    }\n",
       "</style>\n",
       "<table border=\"1\" class=\"dataframe\">\n",
       "  <thead>\n",
       "    <tr style=\"text-align: right;\">\n",
       "      <th></th>\n",
       "      <th>SPY</th>\n",
       "      <th>QQQ</th>\n",
       "      <th>TLT</th>\n",
       "      <th>GLD</th>\n",
       "    </tr>\n",
       "    <tr>\n",
       "      <th>Date</th>\n",
       "      <th></th>\n",
       "      <th></th>\n",
       "      <th></th>\n",
       "      <th></th>\n",
       "    </tr>\n",
       "  </thead>\n",
       "  <tbody>\n",
       "    <tr>\n",
       "      <th>2025-09-29</th>\n",
       "      <td>663.68</td>\n",
       "      <td>598.73</td>\n",
       "      <td>89.63</td>\n",
       "      <td>352.46</td>\n",
       "    </tr>\n",
       "    <tr>\n",
       "      <th>2025-09-30</th>\n",
       "      <td>666.18</td>\n",
       "      <td>600.37</td>\n",
       "      <td>89.37</td>\n",
       "      <td>355.47</td>\n",
       "    </tr>\n",
       "    <tr>\n",
       "      <th>2025-10-01</th>\n",
       "      <td>668.45</td>\n",
       "      <td>603.25</td>\n",
       "      <td>89.29</td>\n",
       "      <td>356.03</td>\n",
       "    </tr>\n",
       "    <tr>\n",
       "      <th>2025-10-02</th>\n",
       "      <td>669.22</td>\n",
       "      <td>605.73</td>\n",
       "      <td>89.55</td>\n",
       "      <td>354.79</td>\n",
       "    </tr>\n",
       "    <tr>\n",
       "      <th>2025-10-03</th>\n",
       "      <td>669.21</td>\n",
       "      <td>603.18</td>\n",
       "      <td>89.38</td>\n",
       "      <td>357.64</td>\n",
       "    </tr>\n",
       "  </tbody>\n",
       "</table>\n",
       "</div>"
      ],
      "text/plain": [
       "               SPY     QQQ    TLT     GLD\n",
       "Date                                     \n",
       "2025-09-29  663.68  598.73  89.63  352.46\n",
       "2025-09-30  666.18  600.37  89.37  355.47\n",
       "2025-10-01  668.45  603.25  89.29  356.03\n",
       "2025-10-02  669.22  605.73  89.55  354.79\n",
       "2025-10-03  669.21  603.18  89.38  357.64"
      ]
     },
     "execution_count": 4,
     "metadata": {},
     "output_type": "execute_result"
    }
   ],
   "source": [
    "# price data from stooq\n",
    "\n",
    "TICKERS = [\"SPY\", \"QQQ\", \"TLT\", \"GLD\"] # equities, tech, long treasuries bond, gold\n",
    "\n",
    "def fetch_stooq_close(tkr, start=None, end=None):\n",
    "    df = web.DataReader(tkr, \"stooq\", start=start, end=end) # daily OHLC\n",
    "    s = df[\"Close\"].sort_index().rename(tkr)\n",
    "    return s\n",
    "\n",
    "# pull and join\n",
    "prices = pd.concat([fetch_stooq_close(t) for t in TICKERS], axis=1).dropna()\n",
    "prices.tail()"
   ]
  },
  {
   "cell_type": "code",
   "execution_count": 5,
   "metadata": {},
   "outputs": [
    {
     "data": {
      "text/html": [
       "<div>\n",
       "<style scoped>\n",
       "    .dataframe tbody tr th:only-of-type {\n",
       "        vertical-align: middle;\n",
       "    }\n",
       "\n",
       "    .dataframe tbody tr th {\n",
       "        vertical-align: top;\n",
       "    }\n",
       "\n",
       "    .dataframe thead th {\n",
       "        text-align: right;\n",
       "    }\n",
       "</style>\n",
       "<table border=\"1\" class=\"dataframe\">\n",
       "  <thead>\n",
       "    <tr style=\"text-align: right;\">\n",
       "      <th></th>\n",
       "      <th>count</th>\n",
       "      <th>mean</th>\n",
       "      <th>std</th>\n",
       "      <th>min</th>\n",
       "      <th>25%</th>\n",
       "      <th>50%</th>\n",
       "      <th>75%</th>\n",
       "      <th>max</th>\n",
       "    </tr>\n",
       "  </thead>\n",
       "  <tbody>\n",
       "    <tr>\n",
       "      <th>SPY</th>\n",
       "      <td>1254.0</td>\n",
       "      <td>0.000603</td>\n",
       "      <td>0.010842</td>\n",
       "      <td>-0.060327</td>\n",
       "      <td>-0.004516</td>\n",
       "      <td>0.000746</td>\n",
       "      <td>0.006356</td>\n",
       "      <td>0.099863</td>\n",
       "    </tr>\n",
       "    <tr>\n",
       "      <th>QQQ</th>\n",
       "      <td>1254.0</td>\n",
       "      <td>0.000648</td>\n",
       "      <td>0.014343</td>\n",
       "      <td>-0.064121</td>\n",
       "      <td>-0.006573</td>\n",
       "      <td>0.001153</td>\n",
       "      <td>0.008489</td>\n",
       "      <td>0.113356</td>\n",
       "    </tr>\n",
       "    <tr>\n",
       "      <th>TLT</th>\n",
       "      <td>1254.0</td>\n",
       "      <td>-0.000362</td>\n",
       "      <td>0.010191</td>\n",
       "      <td>-0.034730</td>\n",
       "      <td>-0.007136</td>\n",
       "      <td>-0.000324</td>\n",
       "      <td>0.006126</td>\n",
       "      <td>0.037749</td>\n",
       "    </tr>\n",
       "    <tr>\n",
       "      <th>GLD</th>\n",
       "      <td>1254.0</td>\n",
       "      <td>0.000560</td>\n",
       "      <td>0.009492</td>\n",
       "      <td>-0.045281</td>\n",
       "      <td>-0.004664</td>\n",
       "      <td>0.000554</td>\n",
       "      <td>0.005964</td>\n",
       "      <td>0.036324</td>\n",
       "    </tr>\n",
       "  </tbody>\n",
       "</table>\n",
       "</div>"
      ],
      "text/plain": [
       "      count      mean       std       min       25%       50%       75%  \\\n",
       "SPY  1254.0  0.000603  0.010842 -0.060327 -0.004516  0.000746  0.006356   \n",
       "QQQ  1254.0  0.000648  0.014343 -0.064121 -0.006573  0.001153  0.008489   \n",
       "TLT  1254.0 -0.000362  0.010191 -0.034730 -0.007136 -0.000324  0.006126   \n",
       "GLD  1254.0  0.000560  0.009492 -0.045281 -0.004664  0.000554  0.005964   \n",
       "\n",
       "          max  \n",
       "SPY  0.099863  \n",
       "QQQ  0.113356  \n",
       "TLT  0.037749  \n",
       "GLD  0.036324  "
      ]
     },
     "execution_count": 5,
     "metadata": {},
     "output_type": "execute_result"
    }
   ],
   "source": [
    "# daily log returns (additive property over time)\n",
    "R = np.log(prices/prices.shift(1)).dropna()\n",
    "R.describe().T"
   ]
  },
  {
   "cell_type": "code",
   "execution_count": 6,
   "metadata": {},
   "outputs": [
    {
     "data": {
      "text/plain": [
       "mu_p_daily      0.000362\n",
       "vol_p_daily     0.007725\n",
       "mu_p_annual     0.091258\n",
       "vol_p_annual    0.122627\n",
       "dtype: float64"
      ]
     },
     "execution_count": 6,
     "metadata": {},
     "output_type": "execute_result"
    }
   ],
   "source": [
    "# matrices & vectors. Portfolio mean/variance\n",
    "\n",
    "# sample equal weights for illustration\n",
    "w_eq = np.repeat(1/len(R.columns), len(R.columns))\n",
    "w_eq = pd.Series(w_eq, index=R.columns, name=\"weight\")\n",
    "\n",
    "# estimate mean vector (μ) and covariance matrix (Σ) from historical returns\n",
    "mu = R.mean()                 # vector (per-day average log return)\n",
    "Sigma = R.cov()               # covariance matrix (symmetric, PSD)\n",
    "\n",
    "# Portfolio mean and variance using linear algebra:\n",
    "# mean:    μ_p = w^T μ\n",
    "# variance:σ_p^2 = w^T Σ w\n",
    "mu_p = float(w_eq @ mu)\n",
    "var_p = float(w_eq @ Sigma @ w_eq)\n",
    "vol_p = math.sqrt(var_p) # volatility is described as standard deviation\n",
    "\n",
    "pd.Series({\n",
    "    \"mu_p_daily\": mu_p,\n",
    "    \"vol_p_daily\": vol_p,\n",
    "    \"mu_p_annual\": 252*mu_p,\n",
    "    \"vol_p_annual\": np.sqrt(252)*vol_p\n",
    "}).round(6)\n"
   ]
  },
  {
   "cell_type": "code",
   "execution_count": 7,
   "metadata": {},
   "outputs": [
    {
     "data": {
      "text/plain": [
       "PC1    0.6136\n",
       "PC2    0.2323\n",
       "PC3    0.1369\n",
       "PC4    0.0172\n",
       "dtype: float64"
      ]
     },
     "execution_count": 7,
     "metadata": {},
     "output_type": "execute_result"
    }
   ],
   "source": [
    "# eigenvalues and eigenvectors: principal componenet analysis (PCA) of covariance\n",
    "\n",
    "# for symmetric covariance matrices, use eigh (more stable for Hermitian matrices)\n",
    "eigvals, eigvecs = np.linalg.eigh(Sigma.values)   # returns ascending eigenvalues\n",
    "# sort descending by eigenvalue (variance explained)\n",
    "idx = eigvals.argsort()[::-1]\n",
    "eigvals = eigvals[idx]\n",
    "eigvecs = eigvecs[:, idx]\n",
    "\n",
    "# variance explained by each principal component\n",
    "var_explained = eigvals / eigvals.sum()\n",
    "pc_labels = [f\"PC{i+1}\" for i in range(len(eigvals))]\n",
    "pd.Series(var_explained, index=pc_labels).round(4)\n",
    "\n",
    "\n"
   ]
  },
  {
   "cell_type": "code",
   "execution_count": 8,
   "metadata": {},
   "outputs": [
    {
     "data": {
      "image/png": "[encoded data removed]",
      "text/plain": [
       "<Figure size 900x500 with 1 Axes>"
      ]
     },
     "metadata": {},
     "output_type": "display_data"
    },
    {
     "data": {
      "text/plain": [
       "SPY   -0.591416\n",
       "QQQ   -0.796837\n",
       "TLT   -0.075467\n",
       "GLD   -0.097889\n",
       "Name: PC1_loadings, dtype: float64"
      ]
     },
     "execution_count": 8,
     "metadata": {},
     "output_type": "execute_result"
    }
   ],
   "source": [
    "# scree plot: how much variance each PC explains (risk factors)\n",
    "plt.figure()\n",
    "plt.plot(range(1, len(eigvals)+1), var_explained, marker=\"o\")\n",
    "plt.title(\"PCA on Σ — variance explained by principal components\")\n",
    "plt.xlabel(\"Principal component\")\n",
    "plt.ylabel(\"Proportion of variance explained\")\n",
    "plt.xticks(range(1, len(eigvals)+1)); plt.show()\n",
    "\n",
    "# loadings of the first PC (the \"market mode\" often)\n",
    "pc1_loadings = pd.Series(eigvecs[:,0], index=R.columns, name=\"PC1_loadings\")\n",
    "pc1_loadings\n"
   ]
  },
  {
   "cell_type": "code",
   "execution_count": 9,
   "metadata": {},
   "outputs": [
    {
     "data": {
      "text/plain": [
       "SPY    0.3213\n",
       "QQQ    0.0000\n",
       "TLT    0.3210\n",
       "GLD    0.3577\n",
       "Name: w_minvar, dtype: float64"
      ]
     },
     "metadata": {},
     "output_type": "display_data"
    },
    {
     "name": "stdout",
     "output_type": "stream",
     "text": [
      "{'vol_min_daily': 0.006657099871803944, 'vol_min_annual': 0.10567818428227922}\n"
     ]
    }
   ],
   "source": [
    "# optimization: long-only minimum-variance portfolio\n",
    "# goal: quadratic in w\n",
    "# constraints: fully invested, no shorting\n",
    "    \n",
    "n = len(R.columns)\n",
    "Sigma_np = Sigma.values\n",
    "\n",
    "def portfolio_var(w, Sigma=Sigma_np):\n",
    "    # objective: 0.5 * w^T Σ w (0.5 is optional; doesn't change argmin)\n",
    "    return 0.5 * float(w.T @ Sigma @ w)\n",
    "\n",
    "def weight_sum_constraint(w):\n",
    "    return np.sum(w) - 1.0     # = 0 at optimum\n",
    "\n",
    "# Bounds: 0 <= w_i <= 1  (long-only)\n",
    "bounds = [(0.0, 1.0)] * n\n",
    "cons = ({\"type\":\"eq\", \"fun\": weight_sum_constraint},)\n",
    "\n",
    "w0 = np.repeat(1/n, n)  # start at equal weights\n",
    "res = minimize(portfolio_var, w0, method=\"SLSQP\", bounds=bounds, constraints=cons,\n",
    "               options={\"ftol\":1e-12, \"maxiter\":10_000})\n",
    "\n",
    "w_minvar = pd.Series(res.x, index=R.columns, name=\"w_minvar\")\n",
    "var_min = float(w_minvar @ Sigma @ w_minvar)\n",
    "vol_min = math.sqrt(var_min)\n",
    "\n",
    "display(w_minvar.round(4))\n",
    "print({\"vol_min_daily\": vol_min, \"vol_min_annual\": np.sqrt(252)*vol_min})\n"
   ]
  },
  {
   "cell_type": "code",
   "execution_count": 11,
   "metadata": {},
   "outputs": [
    {
     "data": {
      "image/png": "[encoded data removed]",
      "text/plain": [
       "<Figure size 900x500 with 1 Axes>"
      ]
     },
     "metadata": {},
     "output_type": "display_data"
    }
   ],
   "source": [
    "# visualize weights\n",
    "plt.figure()\n",
    "w_minvar.plot(kind=\"bar\")\n",
    "plt.title(\"Long-only minimum-variance portfolio weights\")\n",
    "plt.ylabel(\"weight\"); plt.show()\n"
   ]
  },
  {
   "cell_type": "code",
   "execution_count": 12,
   "metadata": {},
   "outputs": [
    {
     "data": {
      "text/html": [
       "<div>\n",
       "<style scoped>\n",
       "    .dataframe tbody tr th:only-of-type {\n",
       "        vertical-align: middle;\n",
       "    }\n",
       "\n",
       "    .dataframe tbody tr th {\n",
       "        vertical-align: top;\n",
       "    }\n",
       "\n",
       "    .dataframe thead th {\n",
       "        text-align: right;\n",
       "    }\n",
       "</style>\n",
       "<table border=\"1\" class=\"dataframe\">\n",
       "  <thead>\n",
       "    <tr style=\"text-align: right;\">\n",
       "      <th></th>\n",
       "      <th>grad_analytic</th>\n",
       "      <th>grad_numeric</th>\n",
       "    </tr>\n",
       "  </thead>\n",
       "  <tbody>\n",
       "    <tr>\n",
       "      <th>SPY</th>\n",
       "      <td>0.000044</td>\n",
       "      <td>0.000044</td>\n",
       "    </tr>\n",
       "    <tr>\n",
       "      <th>QQQ</th>\n",
       "      <td>0.000057</td>\n",
       "      <td>0.000057</td>\n",
       "    </tr>\n",
       "    <tr>\n",
       "      <th>TLT</th>\n",
       "      <td>0.000044</td>\n",
       "      <td>0.000044</td>\n",
       "    </tr>\n",
       "    <tr>\n",
       "      <th>GLD</th>\n",
       "      <td>0.000044</td>\n",
       "      <td>0.000044</td>\n",
       "    </tr>\n",
       "  </tbody>\n",
       "</table>\n",
       "</div>"
      ],
      "text/plain": [
       "     grad_analytic  grad_numeric\n",
       "SPY       0.000044      0.000044\n",
       "QQQ       0.000057      0.000057\n",
       "TLT       0.000044      0.000044\n",
       "GLD       0.000044      0.000044"
      ]
     },
     "execution_count": 12,
     "metadata": {},
     "output_type": "execute_result"
    }
   ],
   "source": [
    "# multivariable calc: gradients and hessians\n",
    "\n",
    "def grad_var(w, Sigma=Sigma_np):\n",
    "    # analytic gradient (Σ w)\n",
    "    return Sigma @ w\n",
    "\n",
    "def numeric_grad(f, w, eps=1e-6):\n",
    "    # central differences for each coordinate\n",
    "    g = np.zeros_like(w)\n",
    "    for i in range(len(w)):\n",
    "        step = np.zeros_like(w); step[i] = eps\n",
    "        g[i] = (f(w+step) - f(w-step)) / (2*eps)\n",
    "    return g\n",
    "\n",
    "w_test = w_minvar.values  # evaluate gradient at the min-var solution\n",
    "g_anal = grad_var(w_test)\n",
    "g_num  = numeric_grad(lambda x: portfolio_var(x, Sigma_np), w_test)\n",
    "\n",
    "pd.DataFrame({\"grad_analytic\": g_anal, \"grad_numeric\": g_num}, index=R.columns).round(6)\n"
   ]
  },
  {
   "cell_type": "code",
   "execution_count": 13,
   "metadata": {},
   "outputs": [
    {
     "name": "stdout",
     "output_type": "stream",
     "text": [
      "{'v^T H v (numeric)': 0.00010945518986614151, 'v^T Σ v * 0.5 (true)': 5.472758538698891e-05}\n",
      "{'v^T H v (numeric)': 0.00011971916242647233, 'v^T Σ v * 0.5 (true)': 5.985960237162119e-05}\n",
      "{'v^T H v (numeric)': 6.18024376250123e-05, 'v^T Σ v * 0.5 (true)': 3.090126343052633e-05}\n"
     ]
    }
   ],
   "source": [
    "# Hessian check: should be Σ itself\n",
    "H_expected = Sigma_np\n",
    "# quick numeric Hessian along a few random directions (optional sanity)\n",
    "def directional_second_derivative(f, w, v, eps=1e-5):\n",
    "    # approx v^T H v by finite differences of directional derivative\n",
    "    return (f(w+eps*v) - 2*f(w) + f(w-eps*v)) / (eps**2)\n",
    "\n",
    "for _ in range(3):\n",
    "    v = np.random.randn(n); v /= np.linalg.norm(v)\n",
    "    dd_num = directional_second_derivative(lambda x: portfolio_var(x, Sigma_np), w_test, v)\n",
    "    dd_true = float(v.T @ H_expected @ v) * 0.5  # note our f has 0.5 factor\n",
    "    print({\"v^T H v (numeric)\": dd_num, \"v^T Σ v * 0.5 (true)\": dd_true})\n"
   ]
  },
  {
   "cell_type": "code",
   "execution_count": 14,
   "metadata": {},
   "outputs": [
    {
     "data": {
      "text/html": [
       "<div>\n",
       "<style scoped>\n",
       "    .dataframe tbody tr th:only-of-type {\n",
       "        vertical-align: middle;\n",
       "    }\n",
       "\n",
       "    .dataframe tbody tr th {\n",
       "        vertical-align: top;\n",
       "    }\n",
       "\n",
       "    .dataframe thead th {\n",
       "        text-align: right;\n",
       "    }\n",
       "</style>\n",
       "<table border=\"1\" class=\"dataframe\">\n",
       "  <thead>\n",
       "    <tr style=\"text-align: right;\">\n",
       "      <th></th>\n",
       "      <th>horizon</th>\n",
       "      <th>alpha</th>\n",
       "      <th>VaR</th>\n",
       "      <th>ES</th>\n",
       "    </tr>\n",
       "  </thead>\n",
       "  <tbody>\n",
       "    <tr>\n",
       "      <th>0</th>\n",
       "      <td>1d</td>\n",
       "      <td>0.05</td>\n",
       "      <td>-0.010591</td>\n",
       "      <td>-0.013373</td>\n",
       "    </tr>\n",
       "    <tr>\n",
       "      <th>1</th>\n",
       "      <td>1d</td>\n",
       "      <td>0.01</td>\n",
       "      <td>-0.015190</td>\n",
       "      <td>-0.017472</td>\n",
       "    </tr>\n",
       "    <tr>\n",
       "      <th>2</th>\n",
       "      <td>21d</td>\n",
       "      <td>0.05</td>\n",
       "      <td>-0.044317</td>\n",
       "      <td>-0.056956</td>\n",
       "    </tr>\n",
       "    <tr>\n",
       "      <th>3</th>\n",
       "      <td>21d</td>\n",
       "      <td>0.01</td>\n",
       "      <td>-0.064594</td>\n",
       "      <td>-0.075364</td>\n",
       "    </tr>\n",
       "  </tbody>\n",
       "</table>\n",
       "</div>"
      ],
      "text/plain": [
       "  horizon  alpha       VaR        ES\n",
       "0      1d   0.05 -0.010591 -0.013373\n",
       "1      1d   0.01 -0.015190 -0.017472\n",
       "2     21d   0.05 -0.044317 -0.056956\n",
       "3     21d   0.01 -0.064594 -0.075364"
      ]
     },
     "execution_count": 14,
     "metadata": {},
     "output_type": "execute_result"
    }
   ],
   "source": [
    "# numerical linear algebra: cholesky and monte carlo\n",
    "\n",
    "# Cholesky factor (lower-triangular), stable for SPD matrices\n",
    "L = np.linalg.cholesky(Sigma_np)\n",
    "\n",
    "def simulate_portfolio_logret(B=100_000, horizon=1, w=w_minvar.values, mu=mu.values, L=L):\n",
    "    \"\"\"\n",
    "    Monte Carlo of horizon-day log returns for the given weights.\n",
    "    We draw N(0, I), transform by L to impose covariance, then add mean vector.\n",
    "    \"\"\"\n",
    "    n = len(mu)\n",
    "    # Draws: shape (B, horizon, n)\n",
    "    Z = np.random.randn(B, horizon, n)\n",
    "    # Apply covariance via L, add mean each day, then project to portfolio\n",
    "    R_draws = (Z @ L.T) + mu   # (B, horizon, n)\n",
    "    r_path = R_draws @ w       # (B, horizon)\n",
    "    return r_path.sum(axis=1)  # horizon sum of log-returns\n",
    "\n",
    "r1 = simulate_portfolio_logret(B=100_000, horizon=1)\n",
    "r21 = simulate_portfolio_logret(B=100_000, horizon=21)\n",
    "\n",
    "def var_es(samples, alpha=0.01):\n",
    "    q = np.quantile(samples, alpha)\n",
    "    es = samples[samples <= q].mean()\n",
    "    return q, es\n",
    "\n",
    "rows = []\n",
    "for label, x in [(\"1d\", r1), (\"21d\", r21)]:\n",
    "    for a in (0.05, 0.01):\n",
    "        VaR, ES = var_es(x, alpha=a)\n",
    "        rows.append({\"horizon\": label, \"alpha\": a, \"VaR\": VaR, \"ES\": ES})\n",
    "pd.DataFrame(rows)\n"
   ]
  },
  {
   "cell_type": "code",
   "execution_count": 15,
   "metadata": {},
   "outputs": [
    {
     "data": {
      "image/png": "[encoded data removed]",
      "text/plain": [
       "<Figure size 900x500 with 1 Axes>"
      ]
     },
     "metadata": {},
     "output_type": "display_data"
    }
   ],
   "source": [
    "# visualize distribution of 21-day simulated portfolio log-returns\n",
    "plt.figure()\n",
    "plt.hist(r21, bins=120, density=True, alpha=0.5)\n",
    "plt.title(\"Simulated 21-day portfolio log-returns (Cholesky MVN)\")\n",
    "plt.xlabel(\"21-day log return\"); plt.ylabel(\"density\"); plt.show()\n"
   ]
  },
  {
   "cell_type": "code",
   "execution_count": null,
   "metadata": {},
   "outputs": [],
   "source": [
    "\"\"\"\n",
    "1. diversification and the covariance matrix\n",
    "\n",
    "The equation iself represents portfolio risk and sums up each \n",
    "assets volatility and the way the assets correlate with eachother.\n",
    "The cross term is big and positive. With a correlation of 0.8 \n",
    "which is high, you can assume that as one asset spikes so will \n",
    "the other one, which means risk is higher and you should likely \n",
    "diversify your portfolio more or lower your position size. Where \n",
    "if the correlation is low ~0, then the two assets do not typically\n",
    "move together and holding both is a lower risk and you could \n",
    "increase position size.\n",
    "\n",
    "2. principal component analysis (PCA) in risk management\n",
    "\n",
    "If the principal component analysis on variance, shows that\n",
    "principal component 1 explains 65-75% of variance (alot) and\n",
    "its loadings are all positive and similar across equities. We\n",
    "know that a single market-wide factor is driving most of the\n",
    "movement. To manage this you can hedge the market factor with\n",
    "an index future or ETF short, cap your portfolio's exposure to\n",
    "PC1 in your risk budget or add assets that don't load heavily on\n",
    "that factor. The main limit is instability, PCA depends on the\n",
    "sample window. Factors and loadings can shift when regime change,\n",
    "volatility spikes, or sectors rotate. So re-estimating regularly\n",
    "is important.\n",
    "\n",
    "\n",
    "\"\"\""
   ]
  }
 ],
 "metadata": {
  "kernelspec": {
   "display_name": "Python 3 (ipykernel)",
   "language": "python",
   "name": "python3"
  },
  "language_info": {
   "codemirror_mode": {
    "name": "ipython",
    "version": 3
   },
   "file_extension": ".py",
   "mimetype": "text/x-python",
   "name": "python",
   "nbconvert_exporter": "python",
   "pygments_lexer": "ipython3",
   "version": "3.11.0"
  }
 },
 "nbformat": 4,
 "nbformat_minor": 2
}
