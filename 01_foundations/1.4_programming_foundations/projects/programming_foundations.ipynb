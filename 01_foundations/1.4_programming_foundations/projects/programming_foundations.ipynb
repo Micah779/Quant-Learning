{
 "cells": [
  {
   "cell_type": "markdown",
   "metadata": {},
   "source": [
    "# Programming Foundations for Quantitative Finance\n",
    "\n",
    "## Overview\n",
    "\n",
    "This lab focuses on:\n",
    "\n",
    "- Reproducibility (env capture, seeds, config)\n",
    "\n",
    "- Data backbone with SQL/SQLite\n",
    "\n",
    "- Research orchestration in Python\n",
    "\n",
    "- Testing (unit tests) and logging\n",
    "\n",
    "- Performance (vectorization, Numba, optional C++ kernel)\n",
    "\n",
    "- Language integration (call C++ from Python)\n",
    "\n",
    "- Optional R snapshot check with rpy2\n",
    "\n",
    "- Git/Linux basics woven in as markdown “ops” cells\n",
    "\n",
    "Tip: If your machine lacks a C++ compiler or rpy2, the notebook still runs (it falls back to pure-Python/Numba).\n"
   ]
  },
  {
   "cell_type": "code",
   "execution_count": 1,
   "metadata": {},
   "outputs": [
    {
     "name": "stdout",
     "output_type": "stream",
     "text": [
      "Requirement already satisfied: numpy in /Library/Frameworks/Python.framework/Versions/3.11/lib/python3.11/site-packages (1.24.3)\n",
      "Requirement already satisfied: pandas in /Library/Frameworks/Python.framework/Versions/3.11/lib/python3.11/site-packages (2.0.3)\n",
      "Requirement already satisfied: matplotlib in /Library/Frameworks/Python.framework/Versions/3.11/lib/python3.11/site-packages (3.6.3)\n",
      "Requirement already satisfied: scipy in /Library/Frameworks/Python.framework/Versions/3.11/lib/python3.11/site-packages (1.10.0)\n",
      "Collecting numba\n",
      "  Downloading numba-0.62.1-cp311-cp311-macosx_11_0_arm64.whl.metadata (2.8 kB)\n",
      "Requirement already satisfied: sqlalchemy in /Library/Frameworks/Python.framework/Versions/3.11/lib/python3.11/site-packages (2.0.38)\n",
      "Collecting sqlite-utils\n",
      "  Downloading sqlite_utils-3.38-py3-none-any.whl.metadata (7.5 kB)\n",
      "Requirement already satisfied: python-dotenv in /Library/Frameworks/Python.framework/Versions/3.11/lib/python3.11/site-packages (1.0.0)\n",
      "Collecting rpy2\n",
      "  Downloading rpy2-3.6.4-py3-none-any.whl.metadata (5.4 kB)\n",
      "Requirement already satisfied: python-dateutil>=2.8.2 in /Library/Frameworks/Python.framework/Versions/3.11/lib/python3.11/site-packages (from pandas) (2.8.2)\n",
      "Requirement already satisfied: pytz>=2020.1 in /Library/Frameworks/Python.framework/Versions/3.11/lib/python3.11/site-packages (from pandas) (2024.2)\n",
      "Requirement already satisfied: tzdata>=2022.1 in /Library/Frameworks/Python.framework/Versions/3.11/lib/python3.11/site-packages (from pandas) (2024.2)\n",
      "Requirement already satisfied: contourpy>=1.0.1 in /Library/Frameworks/Python.framework/Versions/3.11/lib/python3.11/site-packages (from matplotlib) (1.3.1)\n",
      "Requirement already satisfied: cycler>=0.10 in /Library/Frameworks/Python.framework/Versions/3.11/lib/python3.11/site-packages (from matplotlib) (0.11.0)\n",
      "Requirement already satisfied: fonttools>=4.22.0 in /Library/Frameworks/Python.framework/Versions/3.11/lib/python3.11/site-packages (from matplotlib) (4.38.0)\n",
      "Requirement already satisfied: kiwisolver>=1.0.1 in /Library/Frameworks/Python.framework/Versions/3.11/lib/python3.11/site-packages (from matplotlib) (1.4.4)\n",
      "Requirement already satisfied: packaging>=20.0 in /Library/Frameworks/Python.framework/Versions/3.11/lib/python3.11/site-packages (from matplotlib) (23.0)\n",
      "Requirement already satisfied: pillow>=6.2.0 in /Library/Frameworks/Python.framework/Versions/3.11/lib/python3.11/site-packages (from matplotlib) (10.0.0)\n",
      "Requirement already satisfied: pyparsing>=2.2.1 in /Library/Frameworks/Python.framework/Versions/3.11/lib/python3.11/site-packages (from matplotlib) (3.0.9)\n",
      "Collecting llvmlite<0.46,>=0.45.0dev0 (from numba)\n",
      "  Downloading llvmlite-0.45.1-cp311-cp311-macosx_11_0_arm64.whl.metadata (4.8 kB)\n",
      "Requirement already satisfied: typing-extensions>=4.6.0 in /Library/Frameworks/Python.framework/Versions/3.11/lib/python3.11/site-packages (from sqlalchemy) (4.12.2)\n",
      "Collecting sqlite-fts4 (from sqlite-utils)\n",
      "  Downloading sqlite_fts4-1.0.3-py3-none-any.whl.metadata (6.6 kB)\n",
      "Requirement already satisfied: click in /Library/Frameworks/Python.framework/Versions/3.11/lib/python3.11/site-packages (from sqlite-utils) (8.1.7)\n",
      "Collecting click-default-group>=1.2.3 (from sqlite-utils)\n",
      "  Downloading click_default_group-1.2.4-py2.py3-none-any.whl.metadata (2.8 kB)\n",
      "Collecting tabulate (from sqlite-utils)\n",
      "  Downloading tabulate-0.9.0-py3-none-any.whl.metadata (34 kB)\n",
      "Collecting pluggy (from sqlite-utils)\n",
      "  Downloading pluggy-1.6.0-py3-none-any.whl.metadata (4.8 kB)\n",
      "Collecting rpy2-rinterface>=3.6.3 (from rpy2)\n",
      "  Downloading rpy2_rinterface-3.6.3-cp311-cp311-macosx_10_9_universal2.whl.metadata (1.9 kB)\n",
      "Collecting rpy2-robjects>=3.6.3 (from rpy2)\n",
      "  Downloading rpy2_robjects-3.6.3-py3-none-any.whl.metadata (3.3 kB)\n",
      "Requirement already satisfied: six>=1.5 in /Library/Frameworks/Python.framework/Versions/3.11/lib/python3.11/site-packages (from python-dateutil>=2.8.2->pandas) (1.16.0)\n",
      "Requirement already satisfied: cffi>=1.15.1 in /Library/Frameworks/Python.framework/Versions/3.11/lib/python3.11/site-packages (from rpy2-rinterface>=3.6.3->rpy2) (1.15.1)\n",
      "Requirement already satisfied: pycparser in /Library/Frameworks/Python.framework/Versions/3.11/lib/python3.11/site-packages (from cffi>=1.15.1->rpy2-rinterface>=3.6.3->rpy2) (2.21)\n",
      "Requirement already satisfied: jinja2 in /Library/Frameworks/Python.framework/Versions/3.11/lib/python3.11/site-packages (from rpy2-robjects>=3.6.3->rpy2) (3.1.2)\n",
      "Collecting tzlocal (from rpy2-robjects>=3.6.3->rpy2)\n",
      "  Downloading tzlocal-5.3.1-py3-none-any.whl.metadata (7.6 kB)\n",
      "Requirement already satisfied: MarkupSafe>=2.0 in /Library/Frameworks/Python.framework/Versions/3.11/lib/python3.11/site-packages (from jinja2->rpy2-robjects>=3.6.3->rpy2) (2.1.3)\n",
      "Downloading numba-0.62.1-cp311-cp311-macosx_11_0_arm64.whl (2.7 MB)\n",
      "\u001b[2K   \u001b[90m━━━━━━━━━━━━━━━━━━━━━━━━━━━━━━━━━━━━━━━━\u001b[0m \u001b[32m2.7/2.7 MB\u001b[0m \u001b[31m44.4 MB/s\u001b[0m  \u001b[33m0:00:00\u001b[0m\n",
      "\u001b[?25hDownloading llvmlite-0.45.1-cp311-cp311-macosx_11_0_arm64.whl (37.3 MB)\n",
      "\u001b[2K   \u001b[90m━━━━━━━━━━━━━━━━━━━━━━━━━━━━━━━━━━━━━━━━\u001b[0m \u001b[32m37.3/37.3 MB\u001b[0m \u001b[31m58.8 MB/s\u001b[0m  \u001b[33m0:00:00\u001b[0mm0:00:01\u001b[0m00:01\u001b[0m\n",
      "\u001b[?25hDownloading sqlite_utils-3.38-py3-none-any.whl (68 kB)\n",
      "Downloading rpy2-3.6.4-py3-none-any.whl (9.9 kB)\n",
      "Downloading click_default_group-1.2.4-py2.py3-none-any.whl (4.1 kB)\n",
      "Downloading rpy2_rinterface-3.6.3-cp311-cp311-macosx_10_9_universal2.whl (173 kB)\n",
      "Downloading rpy2_robjects-3.6.3-py3-none-any.whl (125 kB)\n",
      "Downloading pluggy-1.6.0-py3-none-any.whl (20 kB)\n",
      "Downloading sqlite_fts4-1.0.3-py3-none-any.whl (10.0 kB)\n",
      "Downloading tabulate-0.9.0-py3-none-any.whl (35 kB)\n",
      "Downloading tzlocal-5.3.1-py3-none-any.whl (18 kB)\n",
      "Installing collected packages: sqlite-fts4, tzlocal, tabulate, pluggy, llvmlite, click-default-group, sqlite-utils, rpy2-rinterface, numba, rpy2-robjects, rpy2\n",
      "\u001b[2K   \u001b[90m━━━━━━━━━━━━━━━━━━━━━━━━━━━━━━━━━━━━━━━━\u001b[0m \u001b[32m11/11\u001b[0m [rpy2]2m 8/11\u001b[0m [numba]default-group]\n",
      "\u001b[1A\u001b[2KSuccessfully installed click-default-group-1.2.4 llvmlite-0.45.1 numba-0.62.1 pluggy-1.6.0 rpy2-3.6.4 rpy2-rinterface-3.6.3 rpy2-robjects-3.6.3 sqlite-fts4-1.0.3 sqlite-utils-3.38 tabulate-0.9.0 tzlocal-5.3.1\n",
      "Note: you may need to restart the kernel to use updated packages.\n"
     ]
    }
   ],
   "source": [
    "\n",
    "%pip install numpy pandas matplotlib scipy numba sqlalchemy sqlite-utils python-dotenv rpy2\n",
    "\n",
    "import os, sys, math, json, time, hashlib, textwrap, warnings, platform\n",
    "from dataclasses import dataclass\n",
    "from pathlib import Path\n",
    "\n",
    "import numpy as np\n",
    "import pandas as pd\n",
    "import matplotlib.pyplot as plt\n",
    "\n",
    "from sqlalchemy import create_engine\n",
    "from sqlalchemy.engine import Engine\n",
    "from scipy import stats\n",
    "from numba import njit\n",
    "\n",
    "warnings.filterwarnings(\"ignore\")\n",
    "plt.rcParams[\"figure.figsize\"] = (9, 5)\n",
    "plt.rcParams[\"axes.spines.top\"] = False\n",
    "plt.rcParams[\"axes.spines.right\"] = False\n",
    "\n",
    "np.random.seed(42)  # reproducibility\n"
   ]
  },
  {
   "cell_type": "code",
   "execution_count": 2,
   "metadata": {},
   "outputs": [
    {
     "data": {
      "text/plain": [
       "{'python': '3.11.0 (v3.11.0:deaf509e8f, Oct 24 2022, 14:43:23) [Clang 13.0.0 (clang-1300.0.29.30)]',\n",
       " 'platform': 'macOS-26.0-arm64-arm-64bit',\n",
       " 'versions': {'numpy': '1.24.3',\n",
       "  'pandas': '2.0.3',\n",
       "  'matplotlib': '3.6.3',\n",
       "  'scipy': 'n/a',\n",
       "  'numba': 'numba'}}"
      ]
     },
     "execution_count": 2,
     "metadata": {},
     "output_type": "execute_result"
    }
   ],
   "source": [
    "# reproducibility: capture environment and library versions for your experiment log\n",
    "ENV_SNAPSHOT = {\n",
    "    \"python\": sys.version,\n",
    "    \"platform\": platform.platform(),\n",
    "    \"versions\": {\n",
    "        \"numpy\": np.__version__,\n",
    "        \"pandas\": pd.__version__,\n",
    "        \"matplotlib\": plt.matplotlib.__version__,\n",
    "        \"scipy\": stats.__version__ if hasattr(stats, \"__version__\") else \"n/a\",\n",
    "        \"numba\": njit.__module__.split('.')[0]  # quick presence check\n",
    "    },\n",
    "}\n",
    "ENV_SNAPSHOT\n"
   ]
  },
  {
   "cell_type": "code",
   "execution_count": 12,
   "metadata": {},
   "outputs": [],
   "source": [
    "# SQLite research db (shcema + sample data)\n",
    "# in prod we would ETL from a datalake (ie snowflake)\n",
    "\n",
    "DB_PATH = Path(\"research_topic14.sqlite\").absolute()\n",
    "engine: Engine = create_engine(f\"sqlite:///{DB_PATH}\")\n",
    "\n",
    "# schema: wide table of daily log returns by symbol\n",
    "with engine.begin() as con:\n",
    "    con.exec_driver_sql(\"\"\"\n",
    "        CREATE TABLE IF NOT EXISTS returns (\n",
    "            date TEXT NOT NULL,\n",
    "            symbol TEXT NOT NULL,\n",
    "            logret REAL NOT NULL,\n",
    "            PRIMARY KEY(date, symbol)\n",
    "        );\n",
    "    \"\"\")\n"
   ]
  },
  {
   "cell_type": "code",
   "execution_count": 13,
   "metadata": {},
   "outputs": [
    {
     "data": {
      "text/plain": [
       "(4698,\n",
       "          date symbol    logret\n",
       " 0  2019-01-01   AAPL  0.009943\n",
       " 1  2019-01-01   MSFT  0.005434\n",
       " 2  2019-01-01    SPY  0.009112\n",
       " 3  2019-01-02   AAPL  0.029338\n",
       " 4  2019-01-02   MSFT  0.017892)"
      ]
     },
     "execution_count": 13,
     "metadata": {},
     "output_type": "execute_result"
    }
   ],
   "source": [
    "# generate synthetic daily log-returns for AAPL/MSFT/SPY with a shared covariance\n",
    "dates = pd.bdate_range(\"2019-01-01\", \"2024-12-31\")\n",
    "symbols = [\"AAPL\", \"MSFT\", \"SPY\"]\n",
    "n = len(symbols)\n",
    "\n",
    "# target mean and covariance (annualized-ish; we’ll convert to daily scale)\n",
    "mu_ann = np.array([0.14, 0.12, 0.07])\n",
    "vol_ann = np.array([0.30, 0.28, 0.18])\n",
    "corr = np.array([[1.00, 0.75, 0.65],\n",
    "                 [0.75, 1.00, 0.60],\n",
    "                 [0.65, 0.60, 1.00]])\n",
    "Sigma_ann = np.outer(vol_ann, vol_ann) * corr\n",
    "\n",
    "# convert to daily (approx 252 trading days)\n",
    "mu_day = mu_ann / 252.0\n",
    "Sigma_day = Sigma_ann / 252.0\n",
    "\n",
    "L = np.linalg.cholesky(Sigma_day)\n",
    "Z = np.random.randn(len(dates), n)\n",
    "R = (Z @ L.T) + mu_day  # daily log-returns matrix\n",
    "\n",
    "df = pd.DataFrame(R, index=dates, columns=symbols)\n",
    "df = df.stack().rename(\"logret\").reset_index()\n",
    "df.columns = [\"date\", \"symbol\", \"logret\"]\n",
    "df[\"date\"] = df[\"date\"].dt.strftime(\"%Y-%m-%d\")\n",
    "\n",
    "with engine.begin() as con:\n",
    "    # idempotent upsert for simplicity: clear and reinsert\n",
    "    con.exec_driver_sql(\"DELETE FROM returns;\")\n",
    "    df.to_sql(\"returns\", con=con, if_exists=\"append\", index=False)\n",
    "len(df), df.head()\n"
   ]
  },
  {
   "cell_type": "code",
   "execution_count": 14,
   "metadata": {},
   "outputs": [
    {
     "data": {
      "text/plain": [
       "(symbol\n",
       " AAPL    0.000179\n",
       " MSFT    0.000239\n",
       " SPY     0.000535\n",
       " dtype: float64,\n",
       " symbol      AAPL      MSFT       SPY\n",
       " symbol                              \n",
       " AAPL    0.000362  0.000243  0.000136\n",
       " MSFT    0.000243  0.000300  0.000114\n",
       " SPY     0.000136  0.000114  0.000122)"
      ]
     },
     "execution_count": 14,
     "metadata": {},
     "output_type": "execute_result"
    }
   ],
   "source": [
    "# python orchestration\n",
    "# query SQL > compute mean, covariance > portfolio metrics\n",
    "\n",
    "def load_returns(engine: Engine, symbols=None, start=None, end=None) -> pd.DataFrame:\n",
    "    query = \"SELECT date, symbol, logret FROM returns\"\n",
    "    clauses = []\n",
    "    if start: clauses.append(f\"date >= '{start}'\")\n",
    "    if end:   clauses.append(f\"date <= '{end}'\")\n",
    "    if symbols:\n",
    "        syms = \",\".join([f\"'{s}'\" for s in symbols])\n",
    "        clauses.append(f\"symbol IN ({syms})\")\n",
    "    if clauses:\n",
    "        query += \" WHERE \" + \" AND \".join(clauses)\n",
    "    query += \" ORDER BY date, symbol\"\n",
    "    df = pd.read_sql_query(query, engine, parse_dates=[\"date\"])\n",
    "    return df\n",
    "\n",
    "raw = load_returns(engine, symbols=[\"AAPL\", \"MSFT\", \"SPY\"], start=\"2020-01-01\")\n",
    "pivot = raw.pivot(index=\"date\", columns=\"symbol\", values=\"logret\").dropna()\n",
    "mu = pivot.mean()             # daily mean vector\n",
    "Sigma = pivot.cov()           # daily covariance matrix\n",
    "mu, Sigma.head()\n"
   ]
  },
  {
   "cell_type": "code",
   "execution_count": 15,
   "metadata": {},
   "outputs": [
    {
     "data": {
      "text/plain": [
       "mu_daily      0.000318\n",
       "vol_daily     0.014018\n",
       "mu_annual     0.080038\n",
       "vol_annual    0.222527\n",
       "dtype: float64"
      ]
     },
     "execution_count": 15,
     "metadata": {},
     "output_type": "execute_result"
    }
   ],
   "source": [
    "def portfolio_stats(w: np.ndarray, mu: pd.Series, Sigma: pd.DataFrame):\n",
    "    er = float(w @ mu.values)\n",
    "    var = float(w @ Sigma.values @ w)\n",
    "    vol = math.sqrt(var)\n",
    "    return er, vol, var\n",
    "\n",
    "w_eq = np.repeat(1.0/len(mu), len(mu))\n",
    "er_d, vol_d, var_d = portfolio_stats(w_eq, mu, Sigma)\n",
    "\n",
    "pd.Series({\n",
    "    \"mu_daily\": er_d,\n",
    "    \"vol_daily\": vol_d,\n",
    "    \"mu_annual\": er_d*252,\n",
    "    \"vol_annual\": vol_d*np.sqrt(252)\n",
    "}).round(6)\n"
   ]
  },
  {
   "cell_type": "code",
   "execution_count": 16,
   "metadata": {},
   "outputs": [
    {
     "name": "stderr",
     "output_type": "stream",
     "text": [
      "test_dimensions (__main__.TestPortfolioMath.test_dimensions) ... ok\n",
      "test_psd (__main__.TestPortfolioMath.test_psd) ... ok\n",
      "test_stats_sign (__main__.TestPortfolioMath.test_stats_sign) ... ok\n",
      "test_weights (__main__.TestPortfolioMath.test_weights) ... ok\n",
      "\n",
      "----------------------------------------------------------------------\n",
      "Ran 4 tests in 0.012s\n",
      "\n",
      "OK\n"
     ]
    }
   ],
   "source": [
    "# testing, unit tests to keep numbers honest\n",
    "# using pythons unittest\n",
    "\n",
    "import unittest\n",
    "class TestPortfolioMath(unittest.TestCase):\n",
    "    def test_dimensions(self):\n",
    "        self.assertEqual(Sigma.shape[0], Sigma.shape[1])\n",
    "        self.assertEqual(Sigma.shape[0], mu.shape[0])\n",
    "    def test_psd(self):\n",
    "        # covariance should be PSD (allow small numeric slop)\n",
    "        e = np.linalg.eigvalsh(Sigma.values)\n",
    "        self.assertTrue(np.all(e > -1e-12))\n",
    "    def test_weights(self):\n",
    "        self.assertAlmostEqual(w_eq.sum(), 1.0, places=12)\n",
    "        self.assertTrue(np.all(w_eq >= 0))\n",
    "    def test_stats_sign(self):\n",
    "        er, vol, var = portfolio_stats(w_eq, mu, Sigma)\n",
    "        self.assertTrue(vol >= 0 and var >= 0)\n",
    "\n",
    "suite = unittest.TestLoader().loadTestsFromTestCase(TestPortfolioMath)\n",
    "unittest.TextTestRunner(verbosity=2).run(suite);\n"
   ]
  },
  {
   "cell_type": "code",
   "execution_count": 17,
   "metadata": {},
   "outputs": [
    {
     "name": "stdout",
     "output_type": "stream",
     "text": [
      "2025-10-06 12:03:52,691 | INFO | Starting Topic 1.4 run\n",
      "2025-10-06 12:03:52,692 | INFO | Env snapshot: {\"python\": \"3.11.0 (v3.11.0:deaf509e8f, Oct 24 2022, 14:43:23) [Clang 13.0.0 (clang-1300.0.29.30)]\", \"platform\": \"macOS-26.0-arm64-arm-64bit\", \"versions\": {\"numpy\": \"1.24.3\", \"pandas\": \"2.0.3\", \"matplotlib\": \"3.6.3\", \"scipy\": \"n/a\", \"numba\": \"numba\"}}\n"
     ]
    }
   ],
   "source": [
    "# logging and lightweight config\n",
    "\n",
    "import logging, yaml\n",
    "\n",
    "# config that would usually live in a YAML file committed to Git\n",
    "CONFIG_YAML = \"\"\"\n",
    "universe: [\"AAPL\", \"MSFT\", \"SPY\"]\n",
    "date_start: \"2020-01-01\"\n",
    "report:\n",
    "  paths:\n",
    "    out_dir: \"topic14_outputs\"\n",
    "\"\"\"\n",
    "\n",
    "cfg = yaml.safe_load(CONFIG_YAML)\n",
    "OUT_DIR = Path(cfg[\"report\"][\"paths\"][\"out_dir\"]); OUT_DIR.mkdir(exist_ok=True)\n",
    "\n",
    "# logging to file for audit trail\n",
    "log_path = OUT_DIR / \"run.log\"\n",
    "logging.basicConfig(\n",
    "    level=logging.INFO,\n",
    "    format=\"%(asctime)s | %(levelname)s | %(message)s\",\n",
    "    handlers=[logging.FileHandler(log_path), logging.StreamHandler(sys.stdout)]\n",
    ")\n",
    "logging.info(\"Starting Topic 1.4 run\")\n",
    "logging.info(\"Env snapshot: %s\", json.dumps(ENV_SNAPSHOT))\n"
   ]
  },
  {
   "cell_type": "code",
   "execution_count": 18,
   "metadata": {},
   "outputs": [],
   "source": [
    "# performance, pytohn loop vs vectorized vs numba vs c++\n",
    "\n",
    "series = pivot[\"AAPL\"].values.astype(np.float64)\n",
    "window = 63  # 3 months\n",
    "\n",
    "def rolling_var_loop(x, w):\n",
    "    out = np.full_like(x, np.nan)\n",
    "    for i in range(w-1, len(x)):\n",
    "        seg = x[i-w+1:i+1]\n",
    "        out[i] = np.var(seg, ddof=1)\n",
    "    return out\n",
    "\n",
    "def rolling_var_vec(x, w):\n",
    "    # Vectorized via cumulative sums (note: ddof=1 correction)\n",
    "    x = x.astype(np.float64)\n",
    "    csum = np.cumsum(np.insert(x, 0, 0.0))\n",
    "    csum2 = np.cumsum(np.insert(x*x, 0, 0.0))\n",
    "    n = len(x)\n",
    "    out = np.full(n, np.nan)\n",
    "    for i in range(w-1, n):\n",
    "        s1 = csum[i+1] - csum[i+1-w]\n",
    "        s2 = csum2[i+1] - csum2[i+1-w]\n",
    "        mean = s1 / w\n",
    "        var = (s2 - w*mean*mean) / (w - 1)\n",
    "        out[i] = var\n",
    "    return out\n",
    "\n",
    "@njit(fastmath=True)\n",
    "def rolling_var_numba(x, w):\n",
    "    n = x.shape[0]\n",
    "    out = np.empty(n); out[:] = np.nan\n",
    "    for i in range(w-1, n):\n",
    "        s = 0.0; s2 = 0.0\n",
    "        for j in range(i-w+1, i+1):\n",
    "            v = x[j]; s += v; s2 += v*v\n",
    "        mean = s / w\n",
    "        out[i] = (s2 - w*mean*mean) / (w - 1)\n",
    "    return out\n"
   ]
  },
  {
   "cell_type": "code",
   "execution_count": 19,
   "metadata": {},
   "outputs": [
    {
     "data": {
      "text/plain": [
       "python_loop_ms    13.531\n",
       "vectorized_ms      1.122\n",
       "numba_ms           0.057\n",
       "dtype: float64"
      ]
     },
     "execution_count": 19,
     "metadata": {},
     "output_type": "execute_result"
    }
   ],
   "source": [
    "def timeit_ms(fn, *args, repeat=3, **kwargs):\n",
    "    best = 1e9\n",
    "    for _ in range(repeat):\n",
    "        t0 = time.time()\n",
    "        _ = fn(*args, **kwargs)\n",
    "        best = min(best, (time.time() - t0)*1000)\n",
    "    return best\n",
    "\n",
    "t_loop = timeit_ms(rolling_var_loop, series, window)\n",
    "t_vec  = timeit_ms(rolling_var_vec, series, window)\n",
    "_ = rolling_var_numba(series, window)  # compile warm-up\n",
    "t_numba = timeit_ms(rolling_var_numba, series, window)\n",
    "\n",
    "pd.Series({\"python_loop_ms\": t_loop, \"vectorized_ms\": t_vec, \"numba_ms\": t_numba}).round(3)\n"
   ]
  },
  {
   "cell_type": "code",
   "execution_count": 20,
   "metadata": {},
   "outputs": [
    {
     "data": {
      "text/plain": [
       "0.00019650029662048802"
      ]
     },
     "execution_count": 20,
     "metadata": {},
     "output_type": "execute_result"
    }
   ],
   "source": [
    "# portfolio variance kernel, python/numpy vs c++\n",
    "\n",
    "# python base\n",
    "def port_var_numpy(w: np.ndarray, Sigma: np.ndarray) -> float:\n",
    "    return float(w @ Sigma @ w)\n",
    "\n",
    "w = w_eq.copy()\n",
    "Sigma_np = Sigma.values\n",
    "port_var_numpy(w, Sigma_np)\n"
   ]
  },
  {
   "cell_type": "code",
   "execution_count": 24,
   "metadata": {},
   "outputs": [],
   "source": [
    "# c++ shared libarary (loaded via ctypes in python)\n",
    "\n",
    "from pathlib import Path, PurePath\n",
    "from ctypes import CDLL, c_double, POINTER, c_int\n",
    "import subprocess, sys\n",
    "\n",
    "CPP_CODE = r\"\"\"\n",
    "#include <vector>\n",
    "extern \"C\" {\n",
    "    // Compute w^T Sigma w where Sigma is row-major n x n, w length n\n",
    "    double port_var(const double* w, const double* Sigma, int n) {\n",
    "        // temp = Sigma * w\n",
    "        std::vector<double> temp(n, 0.0);\n",
    "        for (int i = 0; i < n; ++i) {\n",
    "            const double* row = Sigma + i*n;\n",
    "            double acc = 0.0;\n",
    "            for (int j = 0; j < n; ++j) acc += row[j] * w[j];\n",
    "            temp[i] = acc;\n",
    "        }\n",
    "        // return w^T temp\n",
    "        double out = 0.0;\n",
    "        for (int i = 0; i < n; ++i) out += w[i] * temp[i];\n",
    "        return out;\n",
    "    }\n",
    "}\n",
    "\"\"\"\n",
    "\n",
    "CPP_DIR = Path(\"cpp_kernel\"); CPP_DIR.mkdir(exist_ok=True)\n",
    "CPP_PATH = CPP_DIR / \"portvar.cpp\"\n",
    "SO_PATH  = CPP_DIR / (\"portvar.so\" if sys.platform != \"win32\" else \"portvar.dll\")\n",
    "\n",
    "CPP_PATH.write_text(CPP_CODE)\n",
    "\n",
    "compile_cmd = [\"g++\", \"-O3\", \"-std=c++17\", \"-shared\", \"-fPIC\", str(CPP_PATH), \"-o\", str(SO_PATH)]\n",
    "try:\n",
    "    subprocess.check_call(compile_cmd)\n",
    "    lib = CDLL(str(SO_PATH))\n",
    "    lib.port_var.argtypes = [POINTER(c_double), POINTER(c_double), c_int]\n",
    "    lib.port_var.restype = c_double\n",
    "\n",
    "    def port_var_cpp(w: np.ndarray, Sigma: np.ndarray) -> float:\n",
    "        w_c = w.astype(np.float64, copy=False)\n",
    "        S_c = Sigma.astype(np.float64, copy=False)\n",
    "        return lib.port_var(w_c.ctypes.data_as(POINTER(c_double)),\n",
    "                            S_c.ctypes.data_as(POINTER(c_double)),\n",
    "                            c_int(w_c.shape[0]))\n",
    "    pv_py  = port_var_numpy(w, Sigma_np)\n",
    "    pv_cpp = port_var_cpp(w, Sigma_np)\n",
    "    pd.Series({\"python/BLAS\": pv_py, \"C++/ctypes\": pv_cpp})\n",
    "except Exception as e:\n",
    "    print(\"C++ compile/load failed:\", e)\n",
    "    port_var_cpp = None\n"
   ]
  },
  {
   "cell_type": "code",
   "execution_count": 28,
   "metadata": {},
   "outputs": [],
   "source": [
    "# benchmark (if C++ loaded successfully)\n",
    "if port_var_cpp is not None:\n",
    "    t_py  = timeit_ms(port_var_numpy, w, Sigma_np)\n",
    "    t_cpp = timeit_ms(port_var_cpp, w, Sigma_np)\n",
    "    pd.Series({\"portvar_numpy_ms\": t_py, \"portvar_cpp_ms\": t_cpp}).round(4)\n",
    "else:\n",
    "    print(\"Skipping C++ benchmark (compiler unavailable).\")\n"
   ]
  },
  {
   "cell_type": "code",
   "execution_count": 25,
   "metadata": {},
   "outputs": [
    {
     "name": "stderr",
     "output_type": "stream",
     "text": [
      "test_cpp_matches_numpy (__main__.TestPortVarKernel.test_cpp_matches_numpy) ... ok\n",
      "test_numpy_positive (__main__.TestPortVarKernel.test_numpy_positive) ... ok\n",
      "\n",
      "----------------------------------------------------------------------\n",
      "Ran 2 tests in 0.004s\n",
      "\n",
      "OK\n"
     ]
    }
   ],
   "source": [
    "# numeric equality and unit test\n",
    "\n",
    "import unittest\n",
    "class TestPortVarKernel(unittest.TestCase):\n",
    "    def test_numpy_positive(self):\n",
    "        self.assertGreaterEqual(port_var_numpy(w, Sigma_np), 0.0)\n",
    "    def test_cpp_matches_numpy(self):\n",
    "        if port_var_cpp is None:\n",
    "            self.skipTest(\"C++ kernel not available\")\n",
    "        pv_py = port_var_numpy(w, Sigma_np)\n",
    "        pv_c  = port_var_cpp(w, Sigma_np)\n",
    "        self.assertAlmostEqual(pv_py, pv_c, places=12)\n",
    "\n",
    "suite = unittest.TestLoader().loadTestsFromTestCase(TestPortVarKernel)\n",
    "unittest.TextTestRunner(verbosity=2).run(suite);\n"
   ]
  },
  {
   "cell_type": "code",
   "execution_count": 26,
   "metadata": {},
   "outputs": [
    {
     "data": {
      "image/png": "[encoded data removed]",
      "text/plain": [
       "<Figure size 900x500 with 1 Axes>"
      ]
     },
     "metadata": {},
     "output_type": "display_data"
    },
    {
     "data": {
      "text/plain": [
       "artefacts.json    ac90f5756a04a1ca3443ec0ddc161467a6066fa9be47ac...\n",
       "run.log           d3acc25bc10d916c830faff9be4a258b2a4ba8bfd22a97...\n",
       "dtype: object"
      ]
     },
     "execution_count": 26,
     "metadata": {},
     "output_type": "execute_result"
    }
   ],
   "source": [
    "# outputs and reporting (plots + hashes for audit)\n",
    "\n",
    "# Plot rolling vol of equal-weight portfolio\n",
    "pnl = pivot @ w_eq\n",
    "roll_vol = pnl.rolling(63).std() * np.sqrt(252)\n",
    "\n",
    "plt.figure()\n",
    "roll_vol.plot()\n",
    "plt.title(\"Equal-weight portfolio rolling volatility (63d, annualized)\")\n",
    "plt.ylabel(\"vol\"); plt.xlabel(\"date\")\n",
    "plt.show()\n",
    "\n",
    "# Persist artifacts with content hashes\n",
    "artefacts = {\n",
    "    \"mu_daily\": mu.to_dict(),\n",
    "    \"Sigma_daily\": Sigma.round(10).to_dict(),\n",
    "    \"w_eq\": {s: float(v) for s, v in zip(mu.index, w_eq)},\n",
    "    \"env\": ENV_SNAPSHOT\n",
    "}\n",
    "out_json = OUT_DIR / \"artefacts.json\"\n",
    "with open(out_json, \"w\") as f:\n",
    "    json.dump(artefacts, f, indent=2, sort_keys=True)\n",
    "\n",
    "def file_sha256(path: Path) -> str:\n",
    "    h = hashlib.sha256()\n",
    "    with open(path, \"rb\") as f:\n",
    "        h.update(f.read())\n",
    "    return h.hexdigest()\n",
    "\n",
    "pd.Series({\n",
    "    \"artefacts.json\": file_sha256(out_json),\n",
    "    \"run.log\": file_sha256(OUT_DIR / \"run.log\")\n",
    "})\n"
   ]
  },
  {
   "cell_type": "code",
   "execution_count": 27,
   "metadata": {},
   "outputs": [
    {
     "name": "stdout",
     "output_type": "stream",
     "text": [
      "2025-10-06 12:07:55,629 | INFO | cffi mode is CFFI_MODE.ANY\n",
      "2025-10-06 12:07:55,816 | INFO | R home found: /Library/Frameworks/R.framework/Resources\n",
      "2025-10-06 12:07:56,749 | INFO | R library path: \n",
      "2025-10-06 12:07:56,750 | INFO | LD_LIBRARY_PATH: \n",
      "2025-10-06 12:07:56,789 | WARNING | Error importing in API mode: ImportError(\"dlopen(/Library/Frameworks/Python.framework/Versions/3.11/lib/python3.11/site-packages/_rinterface_cffi_api.abi3.so, 0x0002): Library not loaded: /Library/Frameworks/R.framework/Versions/4.5-arm64/Resources/lib/libRblas.dylib\\n  Referenced from: <20FB70DB-7E84-3375-A520-E0350E06C060> /Library/Frameworks/Python.framework/Versions/3.11/lib/python3.11/site-packages/_rinterface_cffi_api.abi3.so\\n  Reason: tried: '/Library/Frameworks/R.framework/Versions/4.5-arm64/Resources/lib/libRblas.dylib' (no such file), '/System/Volumes/Preboot/Cryptexes/OS/Library/Frameworks/R.framework/Versions/4.5-arm64/Resources/lib/libRblas.dylib' (no such file), '/Library/Frameworks/R.framework/Versions/4.5-arm64/Resources/lib/libRblas.dylib' (no such file)\")\n",
      "2025-10-06 12:07:56,791 | WARNING | Trying to import in ABI mode.\n",
      "2025-10-06 12:07:56,808 | INFO | Default options to initialize R: rpy2, --quiet, --no-save\n",
      "2025-10-06 12:07:57,365 | INFO | R is already initialized. No need to initialize.\n",
      "R/rpy2 not available: \n",
      "The activate and deactivate are deprecated. To set a conversion\n",
      "context check the docstring for rpy2.robjects.conversion.Converter.context.\n",
      "\n"
     ]
    }
   ],
   "source": [
    "# R interop: check of sample means via rpy2\n",
    "\n",
    "try:\n",
    "    import rpy2.robjects as ro\n",
    "    from rpy2.robjects import pandas2ri\n",
    "    pandas2ri.activate()\n",
    "    ro.r(\"R.version.string\")\n",
    "    # Ship pivot to R and compute column means\n",
    "    r_df = pandas2ri.py2rpy(pivot)\n",
    "    ro.globalenv[\"X\"] = r_df\n",
    "    r_means = ro.r(\"colMeans(X, na.rm=TRUE)\")\n",
    "    pd.Series(np.array(r_means), index=pivot.columns, name=\"R_colMeans\")\n",
    "except Exception as e:\n",
    "    print(\"R/rpy2 not available:\", e)\n"
   ]
  },
  {
   "cell_type": "code",
   "execution_count": null,
   "metadata": {},
   "outputs": [],
   "source": [
    "\"\"\"\n",
    "1. Reproducibility vs Speed\n",
    "\n",
    "When working in quantititive finance your systems, models and\n",
    "automations have to be reproducible, and in many cases fast.\n",
    "Ensuring you have a solid version control, dockeriztion system, \n",
    "logging and clean code standards are a few of the steps that would\n",
    "help ensure you are creating reproducible products.\n",
    "\n",
    "The tradeoff between speed and reproducibility depends on what\n",
    "your desired outcomes are. For a market maker that profits off of\n",
    "the spread and nanosecond - milisecond discrepencies, speed is\n",
    "likley the priority, and reproducibility could be sacrificed. On\n",
    "the other hand if you are a Reasearch or Prop Shop, you might be\n",
    "working on building and distributing a large variety of strategies\n",
    "and focus on reproducibility of your systems/automations so that\n",
    "you can quickly and repeatedly build, test, and evaluate strategies.\n",
    "\n",
    "2. Right Tool for The Job\n",
    "\n",
    "For cleaning a messy corporate actions feed (data) I would use SQL\n",
    "becuase it is a query language (used to fetch, move, and place data)\n",
    "which is perfect for organizing a database. For running an 10,000\n",
    "path Monte Carlo pricer under time pressure I would use C++ because\n",
    "it is great for high volume tasks that also need speed optimization\n",
    "which is hinted at with the time pressure constraint. Lastly for\n",
    "performing hypothesis tests on factor ICs I would use R programming\n",
    "language becuase it is great for statistical analysis of data.\n",
    "\n",
    "3. Testing what Matters\n",
    "\n",
    "Given a min-var backtest that suddenly improved by 20% after small\n",
    "refactors. I would check for leakage/bugs by running a timestamp\n",
    "shift (look ahead bias) test. This would be performed by lagging\n",
    "every inpput by +1 bar. If the performance collapses to the old level\n",
    "or worse, the previous run was using future info. Secondly, I would\n",
    "run the backtest with costs on and costs off to make sure that the\n",
    "PNL with costs off >= PNL with costs on. A sudden drop in costs or\n",
    "turnover constraints often explains a \"free\" +20%\n",
    "\n",
    "To catch this next time we can make sure no feature or estimator\n",
    "may include data from the decision bar. This means at decision time\n",
    "t features/stats must be built from data strictly before t. This\n",
    "assert would rule out look ahead bias. Also have an assert that\n",
    "woud fail if the after costs PNL >= before costs PNL. This is\n",
    "checking for costs inequality.\n",
    "\n",
    "\"\"\""
   ]
  }
 ],
 "metadata": {
  "kernelspec": {
   "display_name": "Python 3 (ipykernel)",
   "language": "python",
   "name": "python3"
  },
  "language_info": {
   "codemirror_mode": {
    "name": "ipython",
    "version": 3
   },
   "file_extension": ".py",
   "mimetype": "text/x-python",
   "name": "python",
   "nbconvert_exporter": "python",
   "pygments_lexer": "ipython3",
   "version": "3.11.0"
  }
 },
 "nbformat": 4,
 "nbformat_minor": 2
}
